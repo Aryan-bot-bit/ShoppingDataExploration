import pandas as pd
import numpy as np
import matplotlib.pyplot as plt   # was matplotlib.pylot → should be pyplot
import seaborn as sns
import warnings
import sqlite3
from scipy import stats           # was from scipy.stats as stats → correct syntax
warnings.filterwarnings('ignore')



conn = sqlite3.connect('inventory.db')

df = pd.read_sql_query("select * from vendor_sales_summary", conn)
df.head()


df.describe().T


numerical_cols = df.select_dtypes(include=np.number).columns

plt.figure(figsize=(15, 10))
for i, col in enumerate(numerical_cols):
    plt.subplot(4, 4, i + 1)
    sns.histplot(df[col], kde=True, bins=30)
    plt.title(col)

plt.tight_layout()
plt.show()



# numerical_cols = df.select_dtypes(include=np.number).columns

plt.figure(figsize=(15, 10))
for i, col in enumerate(numerical_cols):
    plt.subplot(4, 4, i + 1)
    sns.boxplot(y=df[col])
    plt.title(col)

plt.tight_layout()
plt.show()



df = pd.read_sql_query("""SELECT *
FROM vendor_sales_summary
WHERE GrossProfit > 0
AND ProfitMargin > 0
AND TotalSalesQuantity > 0""", conn)


df





categorical_cols = ["VendorName", "Description"]

plt.figure(figsize=(12, 5))

for i, col in enumerate(categorical_cols):
    plt.subplot(1, 2, i + 1)
    sns.countplot(
        y=df[col],
        order=df[col].value_counts().index[:10]  # Top 10 categories
    )
    plt.title(f"{col} (Top 10)")

plt.tight_layout()



plt.figure(figsize=(12, 8))

# Calculate 
correlation_matrix = df[numerical_cols].corr()

# Create the heatmap
sns.heatmap(
    correlation_matrix,
    annot=True,     # Show correlation values on the map
    fmt=".2f",      # Format annotations to 2 decimal places
    cmap="coolwarm", # Color map (cool to warm, great for correlation)
    linewidths=0.5  # Add lines between cells for clarity
)
plt.title("Correlation Heatmap")


brand_performance = df.groupby('Description').agg({
    'TotalSalesDollars': 'sum',
    'ProfitMargin': 'mean'
}).reset_index()
# Calculate low sales threshold (15th percentile)
low_sales_threshold = brand_performance['TotalSalesDollars'].quantile(0.15)
high_margin_threshold = brand_performance['ProfitMargin'].quantile(0.85)



low_sales_threshold


high_margin_threshold


target_brands = brand_performance[
    (brand_performance['TotalSalesDollars'] <= low_sales_threshold) &
    (brand_performance['ProfitMargin'] >= high_margin_threshold)
]

display(target_brands.sort_values('TotalSalesDollars'))






brand_performance = brand_performance[brand_performance['TotalSalesDollars']<10000]


plt.figure(figsize=(10, 6))

# Plot all brands (light blue, semi-transparent)
sns.scatterplot(
    data=brand_performance, 
    x='TotalSalesDollars', 
    y='ProfitMargin', 
    color='blue', 
    label='All Brands', 
    alpha=0.2
)

# Plot target brands (red)
sns.scatterplot(
    data=target_brands, 
    x='TotalSalesDollars', 
    y='ProfitMargin', 
    color='red', 
    label='Target Brands'
)

# Draw horizontal line for high margin threshold
plt.axhline(
    high_margin_threshold, 
    linestyle='--', 
    color='black', 
    label='High Margin Threshold'
)

# Draw vertical line for low sales threshold
plt.axvline(
    low_sales_threshold, 
    linestyle='--', 
    color='black', 
    label='Low Sales Threshold'
)

plt.xlabel("Total Sales ($)")
plt.ylabel("Profit Margin (%)")
plt.title("Brands for Promotional or Pricing Adjustments")
plt.legend()
plt.grid(True)


def format_dollars(value):
    if value >= 1_000_000:
        return f"{value / 1_000_000:.2f}M"
    elif value >= 1_000:
        return f"{value / 1_000:.2f}K"
    else:
        return str(value)
        
top_vendors = df.groupby("VendorName")["TotalSalesDollars"].sum().nlargest(10)
top_brands = df.groupby("Description")["TotalSalesDollars"].sum().nlargest(10)



top_vendors


top_brands


top_brands.apply(lambda x :format_dollars(x))


plt.figure(figsize=(15, 5))

# Plot for Top Vendors
plt.subplot(1, 2, 1)
ax1 = sns.barplot(y=top_vendors.index, x=top_vendors.values, palette="Blues_r")
plt.title("Top 10 Vendors by Sales")

for bar in ax1.patches:
    ax1.text(
        bar.get_width() + (bar.get_width() * 0.02),
        bar.get_y() + bar.get_height() / 2,
        format_dollars(bar.get_width()),
        ha='left', va='center', fontsize=10, color='black'
    )

# Plot for Top Brands
plt.subplot(1, 2, 2)
ax2 = sns.barplot(y=top_brands.index.astype(str), x=top_brands.values, palette="Reds_r")
plt.title("Top 10 Brands by Sales")

for bar in ax2.patches:
    ax2.text(
        bar.get_width() + (bar.get_width() * 0.02),
        bar.get_y() + bar.get_height() / 2,
        format_dollars(bar.get_width()),
        ha='left', va='center', fontsize=10, color='black'
    )

plt.tight_layout()
plt.show()



vendor_performance = df.groupby('VendorName').agg({
    'TotalPurchaseDollars': 'sum',
    'GrossProfit': 'sum',
    'TotalSalesDollars': 'sum'
}).reset_index()
vendor_performance.shape


vendor_performance['PurchaseContribution%'] = vendor_performance['TotalPurchaseDollars']/ vendor_performance['TotalSalesDollars'].sum()*100


vendor_performance


vendor_performance = round(vendor_performance.sort_values('PurchaseContribution%', ascending = False),2)


top_vendors = vendor_performance.head(10)
top_vendors['TotalSalesDollars'] = top_vendors['TotalSalesDollars'].apply(format_dollars)
top_vendors['TotalPurchaseDollars'] = top_vendors['TotalPurchaseDollars'].apply(format_dollars)
top_vendors['GrossProfit'] = top_vendors['GrossProfit'].apply(format_dollars)
top_vendors



top_vendors['PurchaseContribution%'].sum()



fig, ax1 = plt.subplots(figsize=[10, 6])

sns.barplot(x=top_vendors['VendorName'], y=top_vendors['PurchaseContribution%'], palette="mako", ax=ax1)

for i, value in enumerate(top_vendors['PurchaseContribution%']):
    ax1.text(i, value + 1, str(round(value)) + '%', ha='center', fontsize=10, color='white') 

# Line Plot for Cumulative Contribution % (Pareto Line)
ax2 = ax1.twinx()
ax2.plot(top_vendors['VendorName'], top_vendors['Cumulative_Contribution%'], 
         color='red', marker='o', linestyle='dashed', 
         label='Cumulative Contribution %')

ax1.set_xticklabels(top_vendors['VendorName'], rotation=90)
ax1.set_ylabel('Purchase Contribution %', color='blue')
ax2.set_ylabel('Cumulative Contribution %', color='red')
ax1.set_xlabel('Vendors')
ax1.set_title("Pareto Chart: Vendor Contribution to Total Purchases")

# Horizontal line at 80%
ax2.axhline(y=80, color='gray', linestyle='dashed', alpha=0.7)

# Display the legend
ax2.legend(loc='upper right')

plt.show()



vendors = list(top_vendors['VendorName'].values)
purchase_contributions = list(top_vendors['PurchaseContribution%'].values)

# Calculate the total contribution of the top vendors
total_contribution = sum(purchase_contributions)
# Calculate the remaining contribution for all other vendors (assuming 100% total)
remaining_contribution = 100 - total_contribution

# Append "Other Vendors" category to the lists
vendors.append("Other Vendors")
purchase_contributions.append(remaining_contribution)

# Donut Chart Creation
fig, ax = plt.subplots(figsize=(8, 8))

# Create the pie chart
wedges, texts, autotexts = ax.pie(purchase_contributions, 
                                  labels=vendors, 
                                  autopct='%1.1f%%',
                                  startangle=140, 
                                  pctdistance=0.85, 
                                  colors=plt.cm.Paired.colors)

# Draw a white circle in the center to create a "donut" effect
centre_circle = plt.Circle((0, 0), 0.70, fc='white')
fig.gca().add_artist(centre_circle)  # gca() gets the current axes

# Add Total Contribution annotation in the center of the donut
ax.text(0, 0, f"Top 10 Total:\n({total_contribution:.2f}%)", 
        fontsize=14, 
        fontweight='bold', 
        ha='center', 
        va='center')

# Set the title for the plot
plt.title("Top 10 Vendor's Purchase Contribution (%)")

plt.show()



df['UnitPurchasePrice'] = df['TotalPurchaseDollars'] / df['TotalPurchaseQuantity']

df['OrderSize'] = pd.qcut(df['TotalPurchaseQuantity'], q=3, labels=["Small", "Medium", "Large"])

df.groupby('OrderSize')[['UnitPurchasePrice']].mean()


plt.figure(figsize=(10, 6))
sns.boxplot(data=df, x="OrderSize", y="UnitPurchasePrice", palette="Set2")
plt.title("Impact of Bulk Purchasing on Unit Price")
plt.xlabel("Order Size")
plt.ylabel("Average Unit Purchase Price")
plt.show()



df[df['StockTurnover'] < 1] \
    .groupby('VendorName')[['StockTurnover']] \
    .mean() \
    .sort_values('StockTurnover', ascending=True) \
    .head(10)



df["UnsoldInventoryValue"] = (df["TotalPurchaseQuantity"] - df["TotalSalesQuantity"]) * df["PurchasePrice"]

print('Total Unsold Capital:', format_dollars(df["UnsoldInventoryValue"].sum()))


inventory_value_per_vendor = df.groupby("VendorName")["UnsoldInventoryValue"].sum().reset_index()

# Sort vendors with the highest locked capital
inventory_value_per_vendor = inventory_value_per_vendor.sort_values(by="UnsoldInventoryValue", ascending=False)
inventory_value_per_vendor["UnsoldInventoryValue"] = inventory_value_per_vendor["UnsoldInventoryValue"].apply(format_dollars)

# Display top 10 vendors
inventory_value_per_vendor.head(10)


top_threshold = df["TotalSalesDollars"].quantile(0.75) 
low_threshold = df["TotalSalesDollars"].quantile(0.75)



top_vendors = df[df["TotalSalesDollars"] >= top_threshold]["ProfitMargin"].dropna()
low_vendors = df[df["TotalSalesDollars"] <= low_threshold]["ProfitMargin"].dropna()



top_vendors
low_vendors


def confidence_interval(data, confidence=0.95):
    mean_val = np.mean(data)
    std_err = np.std(data, ddof=1) / np.sqrt(len(data))  # Standard error
    t_critical = stats.t.ppf((1 + confidence) / 2, df=len(data) - 1)
    margin_of_error = t_critical * std_err
    return mean_val, mean_val - margin_of_error, mean_val + margin_of_error


top_mean, top_lower, top_upper = confidence_interval(top_vendors)
low_mean, low_lower, low_upper = confidence_interval(low_vendors)

print(f"Top Vendors 95% CI: ({top_lower:.2f}, {top_upper:.2f}), Mean: {top_mean:.2f}")
print(f"Low Vendors 95% CI: ({low_lower:.2f}, {low_upper:.2f}), Mean: {low_mean:.2f}")

plt.figure(figsize=(12, 6))

# Top Vendors Plot
sns.histplot(top_vendors, kde=True, color="blue", bins=30, alpha=0.5, label="Top Vendors")
plt.axvline(top_lower, color="blue", linestyle="--", label=f"Top Lower: {top_lower:.2f}")
plt.axvline(top_upper, color="blue", linestyle="--", label=f"Top Upper: {top_upper:.2f}")
plt.axvline(top_mean, color="blue", linestyle="--", label=f"Top Mean: {top_mean:.2f}")

# Low Vendors Plot
sns.histplot(low_vendors, kde=True, color="red", bins=30, alpha=0.5, label="Low Vendors")
plt.axvline(low_lower, color="red", linestyle="--", label=f"Low Lower: {low_lower:.2f}")
plt.axvline(low_upper, color="red", linestyle="--", label=f"Low Upper: {low_upper:.2f}")
plt.axvline(low_mean, color="red", linestyle="--", label=f"Low Mean: {low_mean:.2f}")

# Finalize Plot
plt.title("Confidence Interval Comparison: Top vs. Low Vendors (Profit Margin)")
plt.xlabel("Profit Margin (%)")
plt.ylabel("Frequency")
plt.legend()
plt.grid(True)
plt.show()





top_threshold = df["TotalSalesDollars"].quantile(0.75)
low_threshold = df["TotalSalesDollars"].quantile(0.25)
top_vendors = df[df["TotalSalesDollars"] >= top_threshold]["ProfitMargin"].dropna()
low_vendors = df[df["TotalSalesDollars"] <= low_threshold]["ProfitMargin"].dropna()
t_stat, p_value = ttest_ind(top_vendors, low_vendors, equal_var=False)
print(f"T-Statistic: {t_stat:.4f}, P-Value: {p_value:.4f}")
if p_value < 0.05:
    print("Reject H0: There is a significant difference in profit margins between top and low-performing vendors.")
else:
    print("Fail to Reject H0: No significant difference in profit margins.")



