{
 "cells": [
  {
   "cell_type": "code",
   "execution_count": 15,
   "id": "e70795ac-84c0-40ef-acf1-444f11868e5e",
   "metadata": {},
   "outputs": [],
   "source": [
    "import pandas as pd\n",
    "import os\n",
    "import logging\n",
    "from sqlalchemy import create_engine\n",
    "import time\n",
    "\n",
    "logging.basicConfig(\n",
    "    filename=\"logs/ingestion_db.log\",\n",
    "    level=logging.DEBUG,\n",
    "    format=\"%(asctime)s - %(levelname)s - %(message)s\",\n",
    "    filemode=\"a\"\n",
    ")    \n",
    "\n",
    "engine = create_engine('sqlite:///inventory.db', connect_args={'check_same_thread': False})\n",
    "\n",
    "def ingest_db(df, table_name, engine):\n",
    "    '''this functionn will ingest the dataframe into db table'''\n",
    "    df.to_sql(table_name, con=engine, if_exists=\"replace\", index=False)\n",
    "    \n",
    "def load_row_data():\n",
    "    '''This fuction load cvs as dataframe and ingest into db'''\n",
    "    start = time.time()\n",
    "    for file in os.listdir('data'):\n",
    "        if file.endswith('.csv'):\n",
    "            file_start = time.time()\n",
    "            df = pd.read_csv('data/'+file)\n",
    "            logging.info(f'Ingesting {file} in db')\n",
    "            ingest_db(df, file[:-4], engine)\n",
    "            file_end = time.time()\n",
    "            file_time = (file_end - file_start)\n",
    "            logging.info(f'{file} loaded in {file_time:.2f} seconds')\n",
    "    end = time.time()\n",
    "    total_time = (end - start)/60\n",
    "    logging.info('Ingestion Complete')\n",
    "    logging.info(f'Total Time Taken: {total_time:.2f} Minutes')\n",
    "\n",
    "if __name__ == \"__main__\":\n",
    "    load_row_data()\n"
   ]
  },
  {
   "cell_type": "code",
   "execution_count": 10,
   "id": "6c87cf9e-e461-4684-bb69-46646b565909",
   "metadata": {},
   "outputs": [
    {
     "name": "stdout",
     "output_type": "stream",
     "text": [
      "(206529, 9)\n",
      "(224489, 9)\n",
      "(2372474, 16)\n",
      "(12261, 9)\n",
      "(12825363, 14)\n",
      "(5543, 10)\n"
     ]
    }
   ],
   "source": []
  }
 ],
 "metadata": {
  "kernelspec": {
   "display_name": "Python 3 (ipykernel)",
   "language": "python",
   "name": "python3"
  },
  "language_info": {
   "codemirror_mode": {
    "name": "ipython",
    "version": 3
   },
   "file_extension": ".py",
   "mimetype": "text/x-python",
   "name": "python",
   "nbconvert_exporter": "python",
   "pygments_lexer": "ipython3",
   "version": "3.13.5"
  }
 },
 "nbformat": 4,
 "nbformat_minor": 5
}
